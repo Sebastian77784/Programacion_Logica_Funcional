{
 "cells": [
  {
   "cell_type": "markdown",
   "id": "46e99c96",
   "metadata": {},
   "source": [
    "# Ejercicio 1\n",
    "Ejercicio 1 de evaluación de expresiones en Python\n",
    "\n",
    "$ \\frac {\\pi ^ 2} {6} = \\sum_{n=1}^{\\infty} \\frac{1}{n ^ 2}$"
   ]
  },
  {
   "cell_type": "code",
   "execution_count": 30,
   "id": "fe87fe36",
   "metadata": {},
   "outputs": [
    {
     "name": "stdout",
     "output_type": "stream",
     "text": [
      "valor teórico: 1.6449340668482264, Aproximacion: 1.642932065514894\n",
      "Error: 0.0020020013333323927\n"
     ]
    }
   ],
   "source": [
    "import math\n",
    "res = math.pi**2 / 6\n",
    "res2 = 0\n",
    "for n in range (1,500):\n",
    "    res2+=1 / (n**2)\n",
    "\n",
    "print(f\"valor teórico: {res}, Aproximacion: {res2}\")\n",
    "error = abs(res - res2)\n",
    "print (f\"Error: {error}\")"
   ]
  },
  {
   "cell_type": "markdown",
   "id": "3f9dc4b2",
   "metadata": {},
   "source": [
    "### Expreción 1\n"
   ]
  },
  {
   "cell_type": "code",
   "execution_count": 1,
   "id": "f1262108",
   "metadata": {},
   "outputs": [
    {
     "name": "stdout",
     "output_type": "stream",
     "text": [
      "19\n"
     ]
    }
   ],
   "source": [
    "resultado = 3 + 4 * 2 ** 2\n",
    "print(resultado)"
   ]
  },
  {
   "cell_type": "markdown",
   "id": "50db4efd",
   "metadata": {},
   "source": [
    "### Expr 1\n",
    "-En la expresion expr1 = (3+2) * 4\n",
    "\n",
    "-Primero se realiza los parentesis (3 + 2) que da como resultado 5\n",
    "\n",
    "-despues ese resultado se multiplica por 4\n",
    "\n",
    "-lo que nos da como resultado 20"
   ]
  },
  {
   "cell_type": "code",
   "execution_count": 2,
   "id": "d3751c06",
   "metadata": {},
   "outputs": [
    {
     "name": "stdout",
     "output_type": "stream",
     "text": [
      "20\n"
     ]
    }
   ],
   "source": [
    "resultado = (3+2) * 4\n",
    "print(resultado)"
   ]
  },
  {
   "cell_type": "markdown",
   "id": "da36a4b9",
   "metadata": {},
   "source": [
    "### Expr 2\n",
    "\n",
    "En la expresion 2 * 3 ** 2\n",
    "\n",
    "primero se realiza el cuadrado de 3 ** 2\n",
    "\n",
    " que nos da como resultado 9\n",
    "\n",
    " despues con ese resultado se multiplica 2 * 9\n",
    " \n",
    " que nos da como resultado 18"
   ]
  },
  {
   "cell_type": "code",
   "execution_count": 3,
   "id": "1532bebb",
   "metadata": {},
   "outputs": [
    {
     "name": "stdout",
     "output_type": "stream",
     "text": [
      "18\n"
     ]
    }
   ],
   "source": [
    "resultado = 2 * 3 ** 2\n",
    "print (resultado)"
   ]
  },
  {
   "cell_type": "markdown",
   "id": "91826310",
   "metadata": {},
   "source": [
    "### Expr 3\n",
    "En la expresion 10 // 3 + 2 \n",
    "\n",
    "primerpo se realiza la division entera que seria 10 // 3 \n",
    "\n",
    "que nos da como resultado 3.333\n",
    "\n",
    "lo que nos redonde a 3\n",
    "\n",
    "despues el resultado '3' se suma 3 + 2\n",
    "\n",
    "el resultado nos da 5"
   ]
  },
  {
   "cell_type": "code",
   "execution_count": 4,
   "id": "60a8f87c",
   "metadata": {},
   "outputs": [
    {
     "name": "stdout",
     "output_type": "stream",
     "text": [
      "5\n"
     ]
    }
   ],
   "source": [
    "resultado = 10 // 3 + 2\n",
    "print(resultado)\n"
   ]
  },
  {
   "cell_type": "markdown",
   "id": "5f626873",
   "metadata": {},
   "source": [
    "### Expr 4\n",
    "\n",
    "En la expresion 17 % 5 * 2\n",
    "\n",
    "primero se realiza el modulo que hace en primera posisicon una division de 17 / 5\n",
    "\n",
    "que nos da como resultado 3.4 \n",
    "\n",
    "el modulo nomas utiliza el entero que seria 3\n",
    "\n",
    "despues el resultado de la division se multiplica 3 * 5 \n",
    "\n",
    "a lo que nos da como resultado 15\n",
    "\n",
    "esto se resta por el primer valor dividido que seria 17 - 15\n",
    "\n",
    "a lo que nos da como resultado 2\n",
    "\n",
    "ese resultado lo multiplicamos 2 * 2\n",
    "\n",
    "que nos da como resultado 4\n"
   ]
  },
  {
   "cell_type": "code",
   "execution_count": 6,
   "id": "2280f6d4",
   "metadata": {},
   "outputs": [
    {
     "name": "stdout",
     "output_type": "stream",
     "text": [
      "4\n"
     ]
    }
   ],
   "source": [
    "resultado = 17 % 5 * 2\n",
    "print(resultado) "
   ]
  },
  {
   "cell_type": "markdown",
   "id": "d87bc6bc",
   "metadata": {},
   "source": [
    "### Expr 5\n",
    "En la expresion -2 ** 2\n",
    "primero realizamos la potencia a lo que nomas afecta el 2 (2**2)\n",
    "\n",
    "el negativo aqui lo dejamos en un lado por la prioridad de los signos \n",
    "\n",
    "esto nos da como resultado 4 y le agregamos el - por que no tenemos nada mas que afecte al negativo, entonces el resultado final seria -4"
   ]
  },
  {
   "cell_type": "code",
   "execution_count": null,
   "id": "38abb647",
   "metadata": {},
   "outputs": [
    {
     "name": "stdout",
     "output_type": "stream",
     "text": [
      "4\n"
     ]
    }
   ],
   "source": [
    "resultado = -2 ** 2\n",
    "print(resultado)"
   ]
  },
  {
   "cell_type": "markdown",
   "id": "69ce74bc",
   "metadata": {},
   "source": [
    "### Expr 6 \n",
    "En la expresion 3 + 4 * 2 ** 2 // 3\n",
    "Primero realizamos la potencia que seria 2 ** 2\n",
    "\n",
    "nos da como resultado 4 \n",
    "\n",
    "despues multiplicamos ese resultado que seria 4 * 4\n",
    "\n",
    "nos da como resultado 16\n",
    "\n",
    "este resultado lo dividimos 16 // 3\n",
    "\n",
    "esto nos da como resultado 5.3\n",
    "\n",
    "este resultado lo redondea a 5 por que nomas usa numeros enteros esta division //\n",
    "\n",
    "esto lo sumamos a 3 + 5\n",
    "\n",
    "lo que nos da como resultado 8"
   ]
  },
  {
   "cell_type": "code",
   "execution_count": 13,
   "id": "7c3ca0de",
   "metadata": {},
   "outputs": [
    {
     "name": "stdout",
     "output_type": "stream",
     "text": [
      "8\n"
     ]
    }
   ],
   "source": [
    "resultado = 3 + 4 * 2 ** 2 // 3\n",
    "print (resultado)"
   ]
  },
  {
   "cell_type": "markdown",
   "id": "c2598d53",
   "metadata": {},
   "source": [
    "### Expr 7\n",
    "En la expresion 3 < 4 < 5\n",
    "primero analizamos la condicion que si 3 < 4 \n",
    "\n",
    "esto nos da como resultado que si es verdad \n",
    "\n",
    "despues checamos la de 4 < 5 \n",
    "\n",
    "y esto nos da como resultado que si es verdad \n",
    "\n",
    "entonces el resultado final es verdad (True)"
   ]
  },
  {
   "cell_type": "code",
   "execution_count": null,
   "id": "f66310b2",
   "metadata": {},
   "outputs": [
    {
     "name": "stdout",
     "output_type": "stream",
     "text": [
      "True\n"
     ]
    }
   ],
   "source": [
    "resultado =3 < 4 < 5\n",
    "print(resultado)\n",
    "\n"
   ]
  },
  {
   "cell_type": "markdown",
   "id": "1d3ea6ed",
   "metadata": {},
   "source": [
    "### Expr 8\n",
    "En la expresion (3 > 2) and (5 < 10) or False\n",
    "primero analizamos la condicion que si (3 > 2)\n",
    "\n",
    "esto nos da como resultado que si es verdad \n",
    "\n",
    "despues checamos la de (5 < 10)\n",
    "\n",
    "esto nos da como resultado que si es verdad \n",
    "\n",
    "despues checamos la de or False\n",
    "\n",
    "esto nos da como resultado que siempre va ser True \n",
    "\n",
    "entonces el resultado final siempre va ser verdad (True)\n"
   ]
  },
  {
   "cell_type": "code",
   "execution_count": 16,
   "id": "7d2915d0",
   "metadata": {},
   "outputs": [
    {
     "name": "stdout",
     "output_type": "stream",
     "text": [
      "True\n"
     ]
    }
   ],
   "source": [
    "resultado= (3 > 2) and (5 < 10) or False\n",
    "print(resultado)"
   ]
  },
  {
   "cell_type": "markdown",
   "id": "1e7a7e07",
   "metadata": {},
   "source": [
    "### Expr 9\n",
    "En la expresion 5 & 3 + 1\n",
    "Primero realizamos la suma de 3 + 1\n",
    "\n",
    "esto nos da como resultado 4 \n",
    "\n",
    "nos queda 5 & 4 \n",
    "\n",
    "estos numeros se convierten en numero vinarios y se hace bit a bit con AND\n",
    "\n",
    "seria 0101 & 0100 esto tomando el AND nos da 0100\n",
    "\n",
    "ya solo queda convertiurlo a decimal que seria 4\n"
   ]
  },
  {
   "cell_type": "code",
   "execution_count": 17,
   "id": "af6ebc0b",
   "metadata": {},
   "outputs": [
    {
     "name": "stdout",
     "output_type": "stream",
     "text": [
      "4\n"
     ]
    }
   ],
   "source": [
    "resultado = 5 & 3 + 1\n",
    "print (resultado)"
   ]
  },
  {
   "cell_type": "markdown",
   "id": "70581200",
   "metadata": {},
   "source": [
    "### Expr 10\n",
    "En la expresion  (2 + 3) * 4 ** 2 // (5 % 3) and not False\n",
    "\n",
    "primero realizamos los parentesis (2 + 3) lo que nos da 5 que es un numero verdadero\n",
    "\n",
    "despues realizamos el otro (5 % 3)\n",
    "\n",
    "primero realizamos la division de 5 / 3 que da 1.6666 y se toma nomas 1 \n",
    "\n",
    "despues multiplicamos el 3 * 1 lo que nos da 3 \n",
    "\n",
    "despues restamos 5 - 3 lo que nos da 2 \n",
    "\n",
    "despues tenemos la potencia que seria 4 ** 2 lo que da de resultado 16\n",
    "\n",
    "despues resolvemos todo seria (5) * 16 // 2 and not false \n",
    "\n",
    "lo que nos da como resultado 40 y true \n",
    "\n",
    "entonces el resultado fina es TRUE\n",
    "\n",
    "\n"
   ]
  },
  {
   "cell_type": "code",
   "execution_count": 18,
   "id": "9f628727",
   "metadata": {},
   "outputs": [
    {
     "name": "stdout",
     "output_type": "stream",
     "text": [
      "True\n"
     ]
    }
   ],
   "source": [
    "resultado= (2 + 3) * 4 ** 2 // (5 % 3) and not False\n",
    "print (resultado)"
   ]
  },
  {
   "cell_type": "markdown",
   "id": "40ce6433",
   "metadata": {},
   "source": [
    "### Expr 11\n",
    "\n",
    "Expresión: expr11 = ((65 & 66) > 70) and not (65 ^ 66) == 0 \n",
    "\n",
    "1. Operadores que intervienen: - & → AND bit a bit - ^ → XOR bit a bit - > → comparación mayor que - == → comparación de igualdad - not → negación lógica - and → operador lógico AND \n",
    "\n",
    "2. Resolver (65 & 66): 65 = 1000001 (binario) 66 = 1000010 (binario) 1000001 & 1000010 = 1000000 (64 en decimal) \n",
    "\n",
    "3. Resolver (65 ^ 66): 65 = 1000001 66 = 1000010 1000001 ^ 1000010 = 0000011 (3 en decimal) \n",
    "\n",
    "4. Sustituir en la expresión: ((65 & 66) > 70) and not (65 ^ 66) == 0 → (64 > 70) and not (3 == 0) \n",
    "\n",
    "5. Resolver comparaciones: 64 > 70 → False 3 == 0 → False → False and not False \n",
    "\n",
    "6. Resolver not: not False → True → False and True \n",
    "\n",
    "7. Evaluar and: False and True → False Resultado final: expr11 = False"
   ]
  },
  {
   "cell_type": "code",
   "execution_count": 19,
   "id": "b2246734",
   "metadata": {},
   "outputs": [
    {
     "name": "stdout",
     "output_type": "stream",
     "text": [
      "False\n"
     ]
    }
   ],
   "source": [
    "resultado = ((65 & 66) > 70 ) and not (65 ^ 66) == 0\n",
    "print (resultado)"
   ]
  }
 ],
 "metadata": {
  "kernelspec": {
   "display_name": "Python 3",
   "language": "python",
   "name": "python3"
  },
  "language_info": {
   "codemirror_mode": {
    "name": "ipython",
    "version": 3
   },
   "file_extension": ".py",
   "mimetype": "text/x-python",
   "name": "python",
   "nbconvert_exporter": "python",
   "pygments_lexer": "ipython3",
   "version": "3.13.7"
  }
 },
 "nbformat": 4,
 "nbformat_minor": 5
}
