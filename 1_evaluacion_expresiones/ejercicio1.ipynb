{
 "cells": [
  {
   "cell_type": "markdown",
   "id": "46e99c96",
   "metadata": {},
   "source": [
    "# Ejercicio 1\n",
    "Ejercicio 1 de evaluación de expresiones en Python\n",
    "\n",
    "$ \\frac {\\pi ^ 2} {6} = \\sum_{n=1}^{\\infty} \\frac{1}{n ^ 2}$"
   ]
  },
  {
   "cell_type": "code",
   "execution_count": null,
   "id": "fe87fe36",
   "metadata": {},
   "outputs": [
    {
     "name": "stdout",
     "output_type": "stream",
     "text": [
      "valor teórico: 1.6449340668482264, Aproximacion: 1.6449241658091298\n",
      "Error: 9.901039096593678e-06\n"
     ]
    }
   ],
   "source": [
    "import math\n",
    "res = math.pi**2 / 6\n",
    "res2 = 0\n",
    "for n in range (1,500):\n",
    "    res2+=1 / (n**2)\n",
    "\n",
    "print(f\"valor teórico: {res}, Aproximacion: {res2}\")\n",
    "error = abs(res - res2)\n",
    "print (f\"Error: {error}\")"
   ]
  }
 ],
 "metadata": {
  "kernelspec": {
   "display_name": "Python 3",
   "language": "python",
   "name": "python3"
  },
  "language_info": {
   "codemirror_mode": {
    "name": "ipython",
    "version": 3
   },
   "file_extension": ".py",
   "mimetype": "text/x-python",
   "name": "python",
   "nbconvert_exporter": "python",
   "pygments_lexer": "ipython3",
   "version": "3.13.7"
  }
 },
 "nbformat": 4,
 "nbformat_minor": 5
}
