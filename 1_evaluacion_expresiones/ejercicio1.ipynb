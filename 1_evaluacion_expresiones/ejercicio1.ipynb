{
 "cells": [
  {
   "cell_type": "markdown",
   "id": "46e99c96",
   "metadata": {},
   "source": [
    "# Ejercicio 1\n",
    "Ejercicio 1 de evaluación de expresiones en Python\n",
    "\n",
    "$ \\frac {\\pi ^ 2} {6} = \\sum_{n=1}^{\\infty} \\frac{1}{n ^ 2}$"
   ]
  },
  {
   "cell_type": "code",
   "execution_count": 30,
   "id": "fe87fe36",
   "metadata": {},
   "outputs": [
    {
     "name": "stdout",
     "output_type": "stream",
     "text": [
      "valor teórico: 1.6449340668482264, Aproximacion: 1.642932065514894\n",
      "Error: 0.0020020013333323927\n"
     ]
    }
   ],
   "source": [
    "import math\n",
    "res = math.pi**2 / 6\n",
    "res2 = 0\n",
    "for n in range (1,500):\n",
    "    res2+=1 / (n**2)\n",
    "\n",
    "print(f\"valor teórico: {res}, Aproximacion: {res2}\")\n",
    "error = abs(res - res2)\n",
    "print (f\"Error: {error}\")"
   ]
  },
  {
   "cell_type": "markdown",
   "id": "3f9dc4b2",
   "metadata": {},
   "source": [
    "### Expreción 1\n"
   ]
  },
  {
   "cell_type": "code",
   "execution_count": 1,
   "id": "f1262108",
   "metadata": {},
   "outputs": [
    {
     "name": "stdout",
     "output_type": "stream",
     "text": [
      "19\n"
     ]
    }
   ],
   "source": [
    "resultado = 3 + 4 * 2 ** 2\n",
    "print(resultado)"
   ]
  },
  {
   "cell_type": "markdown",
   "id": "50db4efd",
   "metadata": {},
   "source": [
    "### Expr 1\n",
    "-En la expresion expr1 = (3+2) * 4\n",
    "\n",
    "-Primero se realiza los parentesis (3 + 2) que da como resultado 5\n",
    "\n",
    "-despues ese resultado se multiplica por 4\n",
    "\n",
    "-lo que nos da como resultado 20"
   ]
  },
  {
   "cell_type": "code",
   "execution_count": 2,
   "id": "d3751c06",
   "metadata": {},
   "outputs": [
    {
     "name": "stdout",
     "output_type": "stream",
     "text": [
      "20\n"
     ]
    }
   ],
   "source": [
    "resultado = (3+2) * 4\n",
    "print(resultado)"
   ]
  },
  {
   "cell_type": "markdown",
   "id": "da36a4b9",
   "metadata": {},
   "source": [
    "### Expr 2\n",
    "\n",
    "En la expresion 2 * 3 ** 2\n",
    "\n",
    "primero se realiza el cuadrado de 3 ** 2\n",
    "\n",
    " que nos da como resultado 9\n",
    "\n",
    " despues con ese resultado se multiplica 2 * 9\n",
    " \n",
    " que nos da como resultado 18"
   ]
  },
  {
   "cell_type": "code",
   "execution_count": 3,
   "id": "1532bebb",
   "metadata": {},
   "outputs": [
    {
     "name": "stdout",
     "output_type": "stream",
     "text": [
      "18\n"
     ]
    }
   ],
   "source": [
    "resultado = 2 * 3 ** 2\n",
    "print (resultado)"
   ]
  },
  {
   "cell_type": "markdown",
   "id": "91826310",
   "metadata": {},
   "source": [
    "### Expr 3\n",
    "En la expresion 10 // 3 + 2 \n",
    "\n",
    "primerpo se realiza la division entera que seria 10 // 3 \n",
    "\n",
    "que nos da como resultado 3.333\n",
    "\n",
    "lo que nos redonde a 3\n",
    "\n",
    "despues el resultado '3' se suma 3 + 2\n",
    "\n",
    "el resultado nos da 5"
   ]
  },
  {
   "cell_type": "code",
   "execution_count": 4,
   "id": "60a8f87c",
   "metadata": {},
   "outputs": [
    {
     "name": "stdout",
     "output_type": "stream",
     "text": [
      "5\n"
     ]
    }
   ],
   "source": [
    "resultado = 10 // 3 + 2\n",
    "print(resultado)\n"
   ]
  },
  {
   "cell_type": "markdown",
   "id": "5f626873",
   "metadata": {},
   "source": [
    "### Expr 4\n",
    "\n",
    "En la expresion 17 % 5 * 2\n",
    "\n",
    "primero se realiza el modulo que hace en primera posisicon una division de 17 / 5\n",
    "\n",
    "que nos da como resultado 3.4 \n",
    "\n",
    "el modulo nomas utiliza el entero que seria 3\n",
    "\n",
    "despues el resultado de la division se multiplica 3 * 5 \n",
    "\n",
    "a lo que nos da como resultado 15\n",
    "\n",
    "esto se resta por el primer valor dividido que seria 17 - 15\n",
    "\n",
    "a lo que nos da como resultado 2\n",
    "\n",
    "ese resultado lo multiplicamos 2 * 2\n",
    "\n",
    "que nos da como resultado 4\n"
   ]
  },
  {
   "cell_type": "code",
   "execution_count": 6,
   "id": "2280f6d4",
   "metadata": {},
   "outputs": [
    {
     "name": "stdout",
     "output_type": "stream",
     "text": [
      "4\n"
     ]
    }
   ],
   "source": [
    "resultado = 17 % 5 * 2\n",
    "print(resultado) "
   ]
  },
  {
   "cell_type": "markdown",
   "id": "d87bc6bc",
   "metadata": {},
   "source": [
    "### Expr 5\n",
    "En la expresion -2 ** 2\n",
    "primero realizamos la potencia a lo que nomas afecta el 2 (2**2)\n",
    "\n",
    "el negativo aqui lo dejamos en un lado por la prioridad de los signos \n",
    "\n",
    "esto nos da como resultado 4 y le agregamos el - por que no tenemos nada mas que afecte al negativo, entonces el resultado final seria -4"
   ]
  },
  {
   "cell_type": "code",
   "execution_count": null,
   "id": "38abb647",
   "metadata": {},
   "outputs": [
    {
     "name": "stdout",
     "output_type": "stream",
     "text": [
      "4\n"
     ]
    }
   ],
   "source": [
    "resultado = -2 ** 2\n",
    "print(resultado)"
   ]
  },
  {
   "cell_type": "markdown",
   "id": "69ce74bc",
   "metadata": {},
   "source": [
    "### Expr 6 \n",
    "En la expresion 3 + 4 * 2 ** 2 // 3\n",
    "Primero realizamos la potencia que seria 2 ** 2\n",
    "\n",
    "nos da como resultado 4 \n",
    "\n",
    "despues multiplicamos ese resultado que seria 4 * 4\n",
    "\n",
    "nos da como resultado 16\n",
    "\n",
    "este resultado lo dividimos 16 // 3\n",
    "\n",
    "esto nos da como resultado 5.3\n",
    "\n",
    "este resultado lo redondea a 5 por que nomas usa numeros enteros esta division //\n",
    "\n",
    "esto lo sumamos a 3 + 5\n",
    "\n",
    "lo que nos da como resultado 8"
   ]
  },
  {
   "cell_type": "code",
   "execution_count": 13,
   "id": "7c3ca0de",
   "metadata": {},
   "outputs": [
    {
     "name": "stdout",
     "output_type": "stream",
     "text": [
      "8\n"
     ]
    }
   ],
   "source": [
    "resultado = 3 + 4 * 2 ** 2 // 3\n",
    "print (resultado)"
   ]
  },
  {
   "cell_type": "markdown",
   "id": "c2598d53",
   "metadata": {},
   "source": [
    "### Expr 7\n",
    "En la expresion 3 < 4 < 5\n",
    "primero analizamos la condicion que si 3 < 4 \n",
    "\n",
    "esto nos da como resultado que si es verdad \n",
    "\n",
    "despues checamos la de 4 < 5 \n",
    "\n",
    "y esto nos da como resultado que si es verdad \n",
    "\n",
    "entonces el resultado final es verdad (True)"
   ]
  },
  {
   "cell_type": "code",
   "execution_count": null,
   "id": "f66310b2",
   "metadata": {},
   "outputs": [
    {
     "name": "stdout",
     "output_type": "stream",
     "text": [
      "True\n"
     ]
    }
   ],
   "source": [
    "resultado =3 < 4 < 5\n",
    "print(resultado)\n",
    "\n"
   ]
  },
  {
   "cell_type": "markdown",
   "id": "1d3ea6ed",
   "metadata": {},
   "source": [
    "### Expr 8\n",
    "En la expresion (3 > 2) and (5 < 10) or False\n",
    "primero analizamos la condicion que si (3 > 2)\n",
    "\n",
    "esto nos da como resultado que si es verdad \n",
    "\n",
    "despues checamos la de (5 < 10)\n",
    "\n",
    "esto nos da como resultado que si es verdad \n",
    "\n",
    "despues checamos la de or False\n",
    "\n",
    "esto nos da como resultado que siempre va ser True \n",
    "\n",
    "entonces el resultado final siempre va ser verdad (True)\n"
   ]
  },
  {
   "cell_type": "code",
   "execution_count": 16,
   "id": "7d2915d0",
   "metadata": {},
   "outputs": [
    {
     "name": "stdout",
     "output_type": "stream",
     "text": [
      "True\n"
     ]
    }
   ],
   "source": [
    "resultado= (3 > 2) and (5 < 10) or False\n",
    "print(resultado)"
   ]
  },
  {
   "cell_type": "markdown",
   "id": "1e7a7e07",
   "metadata": {},
   "source": [
    "### Expr 9\n",
    "En la expresion 5 & 3 + 1\n",
    "Primero realizamos la suma de 3 + 1\n",
    "\n",
    "esto nos da como resultado 4 \n",
    "\n",
    "nos queda 5 & 4 \n",
    "\n",
    "estos numeros se convierten en numero vinarios y se hace bit a bit con AND\n",
    "\n",
    "seria 0101 & 0100 esto tomando el AND nos da 0100\n",
    "\n",
    "ya solo queda convertiurlo a decimal que seria 4\n"
   ]
  },
  {
   "cell_type": "code",
   "execution_count": 17,
   "id": "af6ebc0b",
   "metadata": {},
   "outputs": [
    {
     "name": "stdout",
     "output_type": "stream",
     "text": [
      "4\n"
     ]
    }
   ],
   "source": [
    "resultado = 5 & 3 + 1\n",
    "print (resultado)"
   ]
  },
  {
   "cell_type": "markdown",
   "id": "70581200",
   "metadata": {},
   "source": [
    "### Expr 10\n",
    "En la expresion  (2 + 3) * 4 ** 2 // (5 % 3) and not False\n",
    "\n",
    "primero realizamos los parentesis (2 + 3) lo que nos da 5 que es un numero verdadero\n",
    "\n",
    "despues realizamos el otro (5 % 3)\n",
    "\n",
    "primero realizamos la division de 5 / 3 que da 1.6666 y se toma nomas 1 \n",
    "\n",
    "despues multiplicamos el 3 * 1 lo que nos da 3 \n",
    "\n",
    "despues restamos 5 - 3 lo que nos da 2 \n",
    "\n",
    "despues tenemos la potencia que seria 4 ** 2 lo que da de resultado 16\n",
    "\n",
    "despues resolvemos todo seria (5) * 16 // 2 and not false \n",
    "\n",
    "lo que nos da como resultado 40 y true \n",
    "\n",
    "entonces el resultado fina es TRUE\n",
    "\n",
    "\n"
   ]
  },
  {
   "cell_type": "code",
   "execution_count": 18,
   "id": "9f628727",
   "metadata": {},
   "outputs": [
    {
     "name": "stdout",
     "output_type": "stream",
     "text": [
      "True\n"
     ]
    }
   ],
   "source": [
    "resultado= (2 + 3) * 4 ** 2 // (5 % 3) and not False\n",
    "print (resultado)"
   ]
  },
  {
   "cell_type": "markdown",
   "id": "40ce6433",
   "metadata": {},
   "source": [
    "### Expr 11\n",
    "\n",
    "Expresión: expr11 = ((65 & 66) > 70) and not (65 ^ 66) == 0 \n",
    "\n",
    "1. Operadores que intervienen: - & → AND bit a bit - ^ → XOR bit a bit - > → comparación mayor que - == → comparación de igualdad - not → negación lógica - and → operador lógico AND \n",
    "\n",
    "2. Resolver (65 & 66): 65 = 1000001 (binario) 66 = 1000010 (binario) 1000001 & 1000010 = 1000000 (64 en decimal) \n",
    "\n",
    "3. Resolver (65 ^ 66): 65 = 1000001 66 = 1000010 1000001 ^ 1000010 = 0000011 (3 en decimal) \n",
    "\n",
    "4. Sustituir en la expresión: ((65 & 66) > 70) and not (65 ^ 66) == 0 → (64 > 70) and not (3 == 0) \n",
    "\n",
    "5. Resolver comparaciones: 64 > 70 → False 3 == 0 → False → False and not False \n",
    "\n",
    "6. Resolver not: not False → True → False and True \n",
    "\n",
    "7. Evaluar and: False and True → False Resultado final: expr11 = False"
   ]
  },
  {
   "cell_type": "code",
   "execution_count": 19,
   "id": "b2246734",
   "metadata": {},
   "outputs": [
    {
     "name": "stdout",
     "output_type": "stream",
     "text": [
      "False\n"
     ]
    }
   ],
   "source": [
    "resultado = ((65 & 66) > 70 ) and not (65 ^ 66) == 0\n",
    "print (resultado)"
   ]
  },
  {
   "cell_type": "markdown",
   "id": "5e2bb100",
   "metadata": {},
   "source": [
    "### Expresiones en Java"
   ]
  },
  {
   "cell_type": "markdown",
   "id": "8aac58d3",
   "metadata": {},
   "source": [
    "### Expresion 1\n",
    "\n",
    "Al momento de mostrar el resultado que es 10 primero se imprime x y despues aumenta con el  ++\n",
    "lo que pasa es que imprime de izquierda a derecha y lo primero que muestra es lo que se queda aunque halla mas cosas despues "
   ]
  },
  {
   "cell_type": "code",
   "execution_count": null,
   "id": "dd8d99ac",
   "metadata": {},
   "outputs": [],
   "source": [
    "class Main {\n",
    "    public static void main(String[] args) {\n",
    "        int x=10;\n",
    "        int b=10;\n",
    "        System.out.println(x++);\n",
    "    }\n",
    "}"
   ]
  },
  {
   "cell_type": "markdown",
   "id": "bd3ea370",
   "metadata": {},
   "source": [
    "### Expresion 2\n",
    "Al momento de mostrar el resultado que es 11 primero se incrementa ya que como mencione en la pasada va pasando de izquierda a derecha siento primero ++ y despues x esto es que primero incrementa en 1 x y ya muestra el resultado "
   ]
  },
  {
   "cell_type": "code",
   "execution_count": null,
   "id": "14ccfd6d",
   "metadata": {},
   "outputs": [],
   "source": [
    "class Main {\n",
    "    public static void main(String[] args) {\n",
    "        int x=10;\n",
    "        int b=10;\n",
    "        System.out.println(++x);\n",
    "    }\n",
    "}"
   ]
  },
  {
   "cell_type": "markdown",
   "id": "e4bf8f29",
   "metadata": {},
   "source": [
    "### Expresion 3\n",
    "Primero se evalua el lado izquierdo siendo que x = 10 \n",
    "despues se incrementa en 1 siendo que x pasa a vale 11 \n",
    "despues realizamos la multiplicacion siendo que es 10 * -3 a lo que nos da -30 \n",
    "\n",
    "despues pasamos al lado derecho que se hace lo mismo b = 10 \n",
    "despues se incrementa volviendo que b = 11\n",
    "despues pasamos al % siendo primero -3 / 10 siendo eso -3\n",
    "entonces hacemos la comparacion final que seria -30 == -3 y podemos ver que es falso "
   ]
  },
  {
   "cell_type": "code",
   "execution_count": null,
   "id": "e712473f",
   "metadata": {},
   "outputs": [],
   "source": [
    "class Main {\n",
    "    public static void main(String[] args) {\n",
    "        int x=10;\n",
    "        int b=10;\n",
    "        System.out.println(b++ * -3 == -3 % x++);\n",
    "    }\n",
    "}"
   ]
  },
  {
   "cell_type": "markdown",
   "id": "4945c613",
   "metadata": {},
   "source": [
    "### Expresion 4\n",
    "Primero creas una variable que en este caso es double j = 30 - 10 siendo esto ya que en la operacion /= antes de eso debes de trener una variable y entonces le dimos la operacion de 30-10 \n",
    "despues elaboramos el aumento de b++ siento su valos nuevo 11 despues elaboramos el residuo de 30 % 7 siendo como resultado 2 ya que en la division nos daria 28 y nos quedan 2 como residuo y es el valor que nos va a dar \n",
    "despues elaboramos la multiplicacion de 2 * 2 ya que el primer numero es el resultado del % \n",
    "despues elaboramos la suma de 11 (b++) con 4 (2 * 2) lo que nos da de resultado 15 \n",
    "\n",
    "despues hacemos la division de j /= 15\n",
    "que nos da de resultado 1.333333333\n"
   ]
  },
  {
   "cell_type": "code",
   "execution_count": 1,
   "id": "c4369464",
   "metadata": {},
   "outputs": [
    {
     "ename": "SyntaxError",
     "evalue": "invalid syntax (1134569313.py, line 1)",
     "output_type": "error",
     "traceback": [
      "  \u001b[36mCell\u001b[39m\u001b[36m \u001b[39m\u001b[32mIn[1]\u001b[39m\u001b[32m, line 1\u001b[39m\n\u001b[31m    \u001b[39m\u001b[31mclass Main {\u001b[39m\n               ^\n\u001b[31mSyntaxError\u001b[39m\u001b[31m:\u001b[39m invalid syntax\n"
     ]
    }
   ],
   "source": [
    "class Main {\n",
    "    public static void main(String[] args) {\n",
    "        int x=10;\n",
    "        int b=10;\n",
    "        double j= 30 - 10;\n",
    "        System.out.println(j /= ++b + 30 % 7 * 2);\n",
    "    }\n",
    "}"
   ]
  },
  {
   "cell_type": "markdown",
   "id": "532ff94a",
   "metadata": {},
   "source": [
    "### Expresion 5\n",
    "Primero creamos una variable int=j para darle una parte de toda la expresion que seria (-50 * x++ * 80 % b / 4) entonces despues se realiza el modulo o residuo lo que nos da como resultado 0 ya que si dividimos 80 / 10 su residuo es de 0 ya que nos da 8 un numero entero que no tiene resiudo \n",
    "despues realizamos la division de 0 / 4 que nos da 0 luego realizamos la multiplicacion de (-50 * x++) lo que nos da -500 despues multiplicamos el -500 * 0 lo que nos da 0 y por ultimo realizamos la operacion de *= que seria el 0 *= 8 lo qeu nos da como resultado 0"
   ]
  },
  {
   "cell_type": "code",
   "execution_count": null,
   "id": "8156732a",
   "metadata": {},
   "outputs": [],
   "source": [
    "class Main {\n",
    "    public static void main(String[] args) {\n",
    "        int x=10;\n",
    "        int b=10;\n",
    "        int j = (-50 * x++ * 80 % b / 4);\n",
    "        System.out.println(x = j*=8);\n",
    "    }\n",
    "}"
   ]
  },
  {
   "cell_type": "markdown",
   "id": "93892abd",
   "metadata": {},
   "source": [
    "### Expresion 6\n",
    "Primero se cambia el valor de x que es 10 a lo que despues su valor incrementa volviendose 11 despues hacemos la division con el modulo entonces en la division el resultado da 1 ya que es una division entera despues con ese resultado hacemos el modulo lo que seria 1 % -3, primero realizamos una division con 1 / - 3 lo que nos da 0 ya que da -0.333333 despues realizamos la multiplicacion 0 * -3 lo que nos da 0 despues realizamos la resta de 1 - 0 lo que nos da como resultado 1 despues de realizar eso realizamos la suma que nos da 9 nos quedaria la expresion ahora 10 - 8 + 3 - 1 + 8 lo que nos da como resultado eso es 12 por ultimo realizamos el *= que seria b *= 12 lo que nos da como resultado 120"
   ]
  },
  {
   "cell_type": "code",
   "execution_count": null,
   "id": "29df93a5",
   "metadata": {},
   "outputs": [],
   "source": [
    "class Main {\n",
    "    public static void main(String[] args) {\n",
    "        int x=10;\n",
    "        int b=10;\n",
    "        System.out.println(b*= x++ - 8 + 3 - 5 / 4 % - 3 + 8);\n",
    "    }\n",
    "}"
   ]
  },
  {
   "cell_type": "markdown",
   "id": "48bd63b0",
   "metadata": {},
   "source": [
    "### Expresion 7\n",
    "Primero se hace la division entera de 50/30 siendo su resultado 1.66666 a lo que es 1 despues multiplicamos el 1 * ++x(11) lo que nos da como resultado 11 despues le sumamos 80 lo que nos da como resultado 91 despues realizamos el b(10) * 91 lo que nos da de resultado 910"
   ]
  },
  {
   "cell_type": "code",
   "execution_count": null,
   "id": "de9990d0",
   "metadata": {},
   "outputs": [],
   "source": [
    "class Main {\n",
    "    public static void main(String[] args) {\n",
    "        int x=10;\n",
    "        int b=10;\n",
    "        System.out.println(x = b *= 50 / 30 * ++x + 80);\n",
    "    }\n",
    "}"
   ]
  },
  {
   "cell_type": "markdown",
   "id": "f7557298",
   "metadata": {},
   "source": [
    "### Expresion 8\n"
   ]
  }
 ],
 "metadata": {
  "kernelspec": {
   "display_name": "Python 3",
   "language": "python",
   "name": "python3"
  },
  "language_info": {
   "codemirror_mode": {
    "name": "ipython",
    "version": 3
   },
   "file_extension": ".py",
   "mimetype": "text/x-python",
   "name": "python",
   "nbconvert_exporter": "python",
   "pygments_lexer": "ipython3",
   "version": "3.13.7"
  }
 },
 "nbformat": 4,
 "nbformat_minor": 5
}
